{
 "cells": [
  {
   "cell_type": "markdown",
   "metadata": {},
   "source": [
    "## jump to python 종합문제 마저 풀기"
   ]
  },
  {
   "cell_type": "code",
   "execution_count": 8,
   "metadata": {},
   "outputs": [],
   "source": [
    "#Q10.\n",
    "\n",
    "class Calculator:\n",
    "    def __init__(self, lists):\n",
    "        self.lists = lists\n",
    "    def sum(self):\n",
    "        return sum(self.lists)\n",
    "    def avg(self):\n",
    "        return sum(self.lists)/len(self.lists)"
   ]
  },
  {
   "cell_type": "code",
   "execution_count": 11,
   "metadata": {},
   "outputs": [
    {
     "data": {
      "text/plain": [
       "[2, 4]"
      ]
     },
     "execution_count": 11,
     "metadata": {},
     "output_type": "execute_result"
    }
   ],
   "source": [
    "cal1 = Calculator([1,2,3])\n",
    "cal1.lists = [2,4]\n",
    "cal1.lists"
   ]
  },
  {
   "cell_type": "code",
   "execution_count": 13,
   "metadata": {},
   "outputs": [
    {
     "data": {
      "text/plain": [
       "3.0"
      ]
     },
     "execution_count": 13,
     "metadata": {},
     "output_type": "execute_result"
    }
   ],
   "source": [
    "cal1.avg()"
   ]
  },
  {
   "cell_type": "code",
   "execution_count": 25,
   "metadata": {},
   "outputs": [
    {
     "name": "stdout",
     "output_type": "stream",
     "text": [
      "7\n"
     ]
    }
   ],
   "source": [
    "# Q11.\n",
    "\n",
    "result = 0\n",
    "\n",
    "try:\n",
    "    [1, 2, 3][3]  # -> 이게 indexerror : +3\n",
    "    \"a\"+1         # -> 이게 typeerror : +1 \n",
    "    4 / 0         # -> 이게 zerodivisionerror : +2\n",
    "except TypeError:\n",
    "    result += 1\n",
    "except ZeroDivisionError:\n",
    "    result += 2\n",
    "except IndexError:\n",
    "    result += 3\n",
    "# except Exception as e:\n",
    "#     print(e)\n",
    "finally:\n",
    "    result += 4\n",
    "\n",
    "print(result)\n",
    "\n",
    "# 위에서 오류나면 그냥 거기서 끝남."
   ]
  },
  {
   "cell_type": "code",
   "execution_count": 28,
   "metadata": {},
   "outputs": [
    {
     "name": "stdout",
     "output_type": "stream",
     "text": [
      "<enumerate object at 0x0000008B88689300>\n"
     ]
    }
   ],
   "source": [
    "#Q13.\n",
    "a = [1,2,3,4,5]\n",
    "b=enumerate(a)\n",
    "print(b)\n",
    "\n"
   ]
  },
  {
   "cell_type": "code",
   "execution_count": 30,
   "metadata": {},
   "outputs": [
    {
     "data": {
      "text/plain": [
       "7"
      ]
     },
     "execution_count": 30,
     "metadata": {},
     "output_type": "execute_result"
    }
   ],
   "source": [
    "a = '1234343'\n",
    "len(a)"
   ]
  },
  {
   "cell_type": "code",
   "execution_count": 31,
   "metadata": {},
   "outputs": [],
   "source": [
    "a = [1,2,3,4]\n",
    "b = ['1','2','3','4']\n"
   ]
  },
  {
   "cell_type": "code",
   "execution_count": 33,
   "metadata": {},
   "outputs": [
    {
     "data": {
      "text/plain": [
       "'1234'"
      ]
     },
     "execution_count": 33,
     "metadata": {},
     "output_type": "execute_result"
    }
   ],
   "source": [
    "''.join(b)"
   ]
  },
  {
   "cell_type": "code",
   "execution_count": 41,
   "metadata": {},
   "outputs": [],
   "source": [
    "a = str(a)\n"
   ]
  },
  {
   "cell_type": "code",
   "execution_count": 42,
   "metadata": {},
   "outputs": [
    {
     "data": {
      "text/plain": [
       "'1234'"
      ]
     },
     "execution_count": 42,
     "metadata": {},
     "output_type": "execute_result"
    }
   ],
   "source": [
    "a.strip('[').strip(']').replace(', ','')"
   ]
  },
  {
   "cell_type": "code",
   "execution_count": 69,
   "metadata": {},
   "outputs": [
    {
     "name": "stdout",
     "output_type": "stream",
     "text": [
      "454*67-9-3-78*4*2*65\n"
     ]
    }
   ],
   "source": [
    "# 다시 ~~ !! Q13. Dashinsert 함수.\n",
    "# DashInsert 함수는 숫자로 구성된 문자열을 입력받은 뒤 문자열 안에서 \n",
    "# 홀수가 연속되면 두 수 사이에 - 를 추가하고, 짝수가 연속되면 * 를 \n",
    "# 추가하는 기능을 갖고 있다. DashInsert 함수를 완성하시오.\n",
    "\n",
    "#입력 예시 : 4546793\n",
    "#출력 예시 : 454*67-9-3\n",
    "\n",
    "data = '4546793784265' \n",
    "numbers = list(map(int, data)) #map은 반복가능한 자료형을 인식하기에 data를 문자열로 등록한 것.\n",
    "result = []\n",
    "\n",
    "for i, num in enumerate(numbers):  #enumerate는 반복 가능한 자료를 인덱스와 함께 열거한다.\n",
    "    result.append(str(num))    #후에 join함수를 쓸 것이기에 문자열로 result에 추가.\n",
    "    if i < len(numbers)-1: #다음 수가 있을 때만 진행하라는 전제가 있어야 오류가 발생하지 않는다. \n",
    "        if num%2==0 and numbers[i+1]%2==0:\n",
    "            result.append('*')\n",
    "        if num%2==1 and numbers[i+1]%2==1:\n",
    "            result.append('-')\n",
    "    \n",
    "print(''.join(result))   #join함수는 문자열을 연결시켜주는 함수이다. int 불가능.\n",
    "\n",
    "\n",
    "\n"
   ]
  },
  {
   "cell_type": "code",
   "execution_count": 81,
   "metadata": {},
   "outputs": [
    {
     "name": "stdout",
     "output_type": "stream",
     "text": [
      "abca\n"
     ]
    }
   ],
   "source": [
    "# Q14. 문자열 압축하기.\n",
    "# 문자열을 입력받아 같은 문자가 연속적으로 반복되는 경우에 \n",
    "# 그 반복 횟수를 표시해 문자열을 압축하여 표시하시오.\n",
    "# 입력 예시: aaabbcccccca\n",
    "# 출력 예시: a3b2c6a1\n",
    "\n",
    "data = 'aaabbcccccca'\n",
    "lists = list(data)\n",
    "result =[]\n",
    "\n",
    "for i, listz in enumerate(lists):\n",
    "    if i < len(lists) - 1:\n",
    "        if listz != lists[i+1]:\n",
    "            result.append(listz)\n",
    "            result.append()\n",
    "    if i == len(lists) - 1:\n",
    "        result.append(lists[i])\n",
    "\n",
    "print(''.join(result))"
   ]
  },
  {
   "cell_type": "code",
   "execution_count": 84,
   "metadata": {},
   "outputs": [
    {
     "data": {
      "text/plain": [
       "{'a', 'b', 'c'}"
      ]
     },
     "execution_count": 84,
     "metadata": {},
     "output_type": "execute_result"
    }
   ],
   "source": [
    "set(data)"
   ]
  },
  {
   "cell_type": "code",
   "execution_count": null,
   "metadata": {},
   "outputs": [],
   "source": [
    "# 처음 설계할 때 변수를 몇 개 잡아야 할지 잘 생각해보자.\n",
    "# 입력 변수, 출력 변수, 시시각각 변하는 변수 등등 잘 설계하고 시작해야 보인다. "
   ]
  },
  {
   "cell_type": "code",
   "execution_count": 98,
   "metadata": {},
   "outputs": [
    {
     "name": "stdout",
     "output_type": "stream",
     "text": [
      "a3b2c6a1\n"
     ]
    }
   ],
   "source": [
    "data = 'aaabbcccccca'\n",
    "result = ''\n",
    "num = 0\n",
    "alpha = ''\n",
    "\n",
    "for i in data:\n",
    "    if i != alpha:\n",
    "        alpha = i\n",
    "        if num: result += str(num)\n",
    "        result += i\n",
    "        num = 1\n",
    "    elif i == alpha:\n",
    "        num += 1\n",
    "if num: result += str(num)\n",
    "\n",
    "print(result)\n",
    "\n"
   ]
  },
  {
   "cell_type": "code",
   "execution_count": 92,
   "metadata": {},
   "outputs": [
    {
     "name": "stdout",
     "output_type": "stream",
     "text": [
      "454*67-9-3\n"
     ]
    }
   ],
   "source": [
    "data = \"4546793\"\n",
    "# numbers = list(map(int, data))   # 숫자 문자열을 숫자 리스트로 변경\n",
    "result = \"\"\n",
    "\n",
    "for i, num in enumerate(data):\n",
    "    result += num\n",
    "    if i < len(data)-1:                   # 다음 수가 있다면\n",
    "        is_odd = int(num) % 2 == 1                # 현재 수가 홀수\n",
    "        is_next_odd = int(data[i+1]) % 2 == 1  # 다음 수가 홀수\n",
    "        if is_odd and is_next_odd:           # 연속 홀수\n",
    "            result += \"-\"\n",
    "        elif not is_odd and not is_next_odd: # 연속 짝수\n",
    "            result += \"*\"\n",
    "\n",
    "print(result)"
   ]
  },
  {
   "cell_type": "code",
   "execution_count": null,
   "metadata": {},
   "outputs": [],
   "source": [
    "data = 'aaabbcccccca'\n",
    "result = ''\n",
    "num = 0\n",
    "alpha = ''\n",
    "\n",
    "for i in data:\n",
    "    if i != alpha:\n",
    "        alpha = i\n",
    "        if num: result += str(num)\n",
    "        result += i\n",
    "        num = 1\n",
    "    elif i == alpha:\n",
    "        num += 1\n",
    "if num: result += str(num)\n",
    "\n",
    "print(result)"
   ]
  },
  {
   "cell_type": "code",
   "execution_count": 105,
   "metadata": {},
   "outputs": [],
   "source": [
    "def press(d):\n",
    "    num = 0\n",
    "    j = ''\n",
    "    result = ''\n",
    "\n",
    "    for i in d:\n",
    "        if i != j:\n",
    "            j = i\n",
    "            if num: result += str(num)\n",
    "            result += i\n",
    "            num = 1\n",
    "        else:\n",
    "            num += 1\n",
    "    \n",
    "    if num: result += str(num)\n",
    "    return result"
   ]
  },
  {
   "cell_type": "code",
   "execution_count": 106,
   "metadata": {},
   "outputs": [
    {
     "name": "stdout",
     "output_type": "stream",
     "text": [
      "b3v3e2d3e1v2\n"
     ]
    }
   ],
   "source": [
    "print(press('bbbvvveedddevv'))"
   ]
  },
  {
   "cell_type": "code",
   "execution_count": null,
   "metadata": {},
   "outputs": [],
   "source": [
    "# Q15. 종합문제.\n",
    "# 0~9의 문자로 된 숫자를 입력받았을 때, 이 입력값이 0~9의 모든 숫자를 각각 한 번씩만 사용한 것인지 확인하는 함수를 작성하시오.\n",
    "\n",
    "# 입력 예시: 0123456789 01234 01234567890 6789012345 012322456789\n",
    "# 출력 예시: True False False True False\n",
    "# list화, set, count\n",
    "\n"
   ]
  },
  {
   "cell_type": "code",
   "execution_count": 172,
   "metadata": {},
   "outputs": [],
   "source": [
    "def check(s):\n",
    "    try:\n",
    "        list(map(int, s))\n",
    "        if len(s) == len(set(s)) and len(s)==10:\n",
    "            print(True)\n",
    "        else:\n",
    "            print(False)\n",
    "    except Exception:\n",
    "        print(\"숫자입력해야지 ㅡㅡ\")\n",
    "            "
   ]
  },
  {
   "cell_type": "code",
   "execution_count": 173,
   "metadata": {},
   "outputs": [],
   "source": [
    "def chkDupNum(s):\n",
    "    result = []\n",
    "    for num in s:\n",
    "        if num not in result:\n",
    "            result.append(num)\n",
    "        else:\n",
    "            return False\n",
    "    return len(result) == 10"
   ]
  },
  {
   "cell_type": "code",
   "execution_count": 174,
   "metadata": {},
   "outputs": [
    {
     "data": {
      "text/plain": [
       "True"
      ]
     },
     "execution_count": 174,
     "metadata": {},
     "output_type": "execute_result"
    }
   ],
   "source": [
    "1==1"
   ]
  },
  {
   "cell_type": "code",
   "execution_count": 177,
   "metadata": {},
   "outputs": [
    {
     "data": {
      "text/plain": [
       "False"
      ]
     },
     "execution_count": 177,
     "metadata": {},
     "output_type": "execute_result"
    }
   ],
   "source": [
    "1!=1"
   ]
  },
  {
   "cell_type": "code",
   "execution_count": null,
   "metadata": {},
   "outputs": [],
   "source": [
    ".... .  ... .-.. . . .--. ...  . .- .-. .-.. -.--"
   ]
  },
  {
   "cell_type": "code",
   "execution_count": 178,
   "metadata": {},
   "outputs": [],
   "source": [
    "dic = {'.-':'A','-...':'B','-.-.':'C','-..':'D','.':'E','..-.':'F',\n",
    "    '--.':'G','....':'H','..':'I','.---':'J','-.-':'K','.-..':'L',\n",
    "    '--':'M','-.':'N','---':'O','.--.':'P','--.-':'Q','.-.':'R',\n",
    "    '...':'S','-':'T','..-':'U','...-':'V','.--':'W','-..-':'X',\n",
    "    '-.--':'Y','--..':'Z'}"
   ]
  },
  {
   "cell_type": "code",
   "execution_count": 189,
   "metadata": {},
   "outputs": [],
   "source": [
    "def morse(a):\n",
    "    result = []\n",
    "    for i in a.split('  '):\n",
    "        for j in i.split(' '):\n",
    "            result += dic[j]\n",
    "        result.append(' ')\n",
    "    return ''.join(result)"
   ]
  },
  {
   "cell_type": "code",
   "execution_count": 190,
   "metadata": {},
   "outputs": [
    {
     "data": {
      "text/plain": [
       "'HE SLEEPS EARLY '"
      ]
     },
     "execution_count": 190,
     "metadata": {},
     "output_type": "execute_result"
    }
   ],
   "source": [
    "morse('.... .  ... .-.. . . .--. ...  . .- .-. .-.. -.--')"
   ]
  },
  {
   "cell_type": "code",
   "execution_count": 193,
   "metadata": {},
   "outputs": [
    {
     "data": {
      "text/plain": [
       "10"
      ]
     },
     "execution_count": 193,
     "metadata": {},
     "output_type": "execute_result"
    }
   ],
   "source": [
    "import re\n",
    "p = re.compile(\"[a-z]+\")\n",
    "m = p.search(\"5 python\")\n",
    "m.start() + m.end()"
   ]
  },
  {
   "cell_type": "code",
   "execution_count": 195,
   "metadata": {},
   "outputs": [
    {
     "data": {
      "text/plain": [
       "2"
      ]
     },
     "execution_count": 195,
     "metadata": {},
     "output_type": "execute_result"
    }
   ],
   "source": [
    "m.start()"
   ]
  }
 ],
 "metadata": {
  "interpreter": {
   "hash": "db0d14c3f66c201eb4bb38ec96661bbebb3070985cbf85cd3f9622e5d810339d"
  },
  "kernelspec": {
   "display_name": "Python 3.8.7 64-bit ('venv': venv)",
   "language": "python",
   "name": "python3"
  },
  "language_info": {
   "codemirror_mode": {
    "name": "ipython",
    "version": 3
   },
   "file_extension": ".py",
   "mimetype": "text/x-python",
   "name": "python",
   "nbconvert_exporter": "python",
   "pygments_lexer": "ipython3",
   "version": "3.8.7"
  },
  "orig_nbformat": 4
 },
 "nbformat": 4,
 "nbformat_minor": 2
}
