{
 "cells": [
  {
   "cell_type": "markdown",
   "metadata": {},
   "source": [
    "# class나 변수 등을 포한한 module"
   ]
  },
  {
   "cell_type": "code",
   "execution_count": 7,
   "metadata": {},
   "outputs": [],
   "source": [
    "#mod2.py\n",
    "pi = 3.141592\n",
    "\n",
    "class Math:\n",
    "    def solv(self, r):\n",
    "        return pi * (r ** 2)\n",
    "\n",
    "def add(a,b):\n",
    "    return a+b\n",
    "    \n"
   ]
  },
  {
   "cell_type": "code",
   "execution_count": 11,
   "metadata": {},
   "outputs": [],
   "source": [
    "import modules\n",
    "\n"
   ]
  },
  {
   "cell_type": "code",
   "execution_count": 12,
   "metadata": {},
   "outputs": [],
   "source": [
    "import modules as md"
   ]
  },
  {
   "cell_type": "code",
   "execution_count": 17,
   "metadata": {},
   "outputs": [],
   "source": [
    "f= open(\"./modules/mod2.py\",\"a\")\n",
    "f.write(\"zzzz\")\n",
    "f.close()"
   ]
  },
  {
   "cell_type": "code",
   "execution_count": 22,
   "metadata": {},
   "outputs": [],
   "source": [
    "import module"
   ]
  },
  {
   "cell_type": "code",
   "execution_count": 23,
   "metadata": {},
   "outputs": [
    {
     "data": {
      "text/plain": [
       "7"
      ]
     },
     "execution_count": 23,
     "metadata": {},
     "output_type": "execute_result"
    }
   ],
   "source": [
    "module.add(3,4)"
   ]
  },
  {
   "cell_type": "code",
   "execution_count": 25,
   "metadata": {},
   "outputs": [
    {
     "data": {
      "text/plain": [
       "['c:\\\\Users\\\\user\\\\Desktop\\\\Coding',\n",
       " 'c:\\\\Users\\\\user\\\\.vscode\\\\extensions\\\\ms-toolsai.jupyter-2021.10.1101450599\\\\pythonFiles',\n",
       " 'c:\\\\Users\\\\user\\\\.vscode\\\\extensions\\\\ms-toolsai.jupyter-2021.10.1101450599\\\\pythonFiles\\\\lib\\\\python',\n",
       " 'C:\\\\Users\\\\user\\\\AppData\\\\Local\\\\Programs\\\\Python\\\\Python38\\\\python38.zip',\n",
       " 'C:\\\\Users\\\\user\\\\AppData\\\\Local\\\\Programs\\\\Python\\\\Python38\\\\DLLs',\n",
       " 'C:\\\\Users\\\\user\\\\AppData\\\\Local\\\\Programs\\\\Python\\\\Python38\\\\lib',\n",
       " 'C:\\\\Users\\\\user\\\\AppData\\\\Local\\\\Programs\\\\Python\\\\Python38',\n",
       " 'c:\\\\Users\\\\user\\\\Desktop\\\\Coding\\\\venv',\n",
       " '',\n",
       " 'c:\\\\Users\\\\user\\\\Desktop\\\\Coding\\\\venv\\\\lib\\\\site-packages',\n",
       " 'c:\\\\Users\\\\user\\\\Desktop\\\\Coding\\\\venv\\\\lib\\\\site-packages\\\\win32',\n",
       " 'c:\\\\Users\\\\user\\\\Desktop\\\\Coding\\\\venv\\\\lib\\\\site-packages\\\\win32\\\\lib',\n",
       " 'c:\\\\Users\\\\user\\\\Desktop\\\\Coding\\\\venv\\\\lib\\\\site-packages\\\\Pythonwin',\n",
       " 'c:\\\\Users\\\\user\\\\Desktop\\\\Coding\\\\venv\\\\lib\\\\site-packages\\\\IPython\\\\extensions',\n",
       " 'C:\\\\Users\\\\user\\\\.ipython']"
      ]
     },
     "execution_count": 25,
     "metadata": {},
     "output_type": "execute_result"
    }
   ],
   "source": [
    "sys.path"
   ]
  },
  {
   "cell_type": "code",
   "execution_count": 26,
   "metadata": {},
   "outputs": [],
   "source": [
    "sys.path.append('c:\\\\Users\\\\user\\\\Desktop\\\\Coding\\\\modules')"
   ]
  },
  {
   "cell_type": "code",
   "execution_count": 27,
   "metadata": {},
   "outputs": [],
   "source": [
    "import mod2"
   ]
  },
  {
   "cell_type": "code",
   "execution_count": 28,
   "metadata": {},
   "outputs": [
    {
     "data": {
      "text/plain": [
       "3.141592"
      ]
     },
     "execution_count": 28,
     "metadata": {},
     "output_type": "execute_result"
    }
   ],
   "source": [
    "mod2.pi"
   ]
  },
  {
   "cell_type": "markdown",
   "metadata": {},
   "source": [
    "# 패키지 실행 시: \n",
    "\n",
    "## 1) 먼저 패키지를 참조할 수 있도록 해야 함.\n",
    "\n",
    "1-1 파이썬 인터프리터에서 sys.pass.append(\"경로\")로 추가.\n",
    "\n",
    "or\n",
    "\n",
    "1-2 명령 프롬프트에서 set PYTHONPATH=경로  로 추가.\n",
    "\n",
    "## 2) 주요 3가지 방법으로 패키지 안의 함수 실행할 수 있음. 호출 할 때는 패키지들을 담고 있는 폴더 경로로 프롬프트 설정 후 파이썬 인터프리터 실행해야 한다!!!\n",
    "\n",
    "2-1) import a.b.c     \n",
    "\n",
    "    - 이 후 호출 시 a.b.c.함수() 다 입력해야함.\n",
    "\n",
    "2-2) from a.b import c\n",
    "\n",
    "    - 이 후 호출 시 c.함수() 만 입력해도됨.\n",
    "\n",
    "2-3) from a.b.c import c모듈 안의 함수\n",
    "\n",
    "    - 이 후 호출 시 함수() 만 입력하면됨.\n",
    "\n",
    "주의 : '.(도트)' 뒤는 무조건 마지막에 모듈로 끝나야 함. 그래야 오류없음.\n",
    "ex) a.b.c -> a와 b는 패키지, c는 모듈인 것임. \n",
    "\n",
    "디렉토리 안에 __init__.py 가 있어야 해당 디렉토리가 패키지의 일부가 됨.\n",
    "-> 사실 지금 버전에서는 없어도 되지만, 하위 버전 호환을 위해 생성하는 것이 안전.\n",
    "\n",
    "'*'모양을 이용하여 import할 수도 있는데 from의 마지막이 모듈이고, 함수를 import하는 것은 따로 설정이 없어도 가능하다. 하지만 from의 마지막이 디렉토리라면 import * 을 할 때 따로 설정을 해주어야 해당 모듈을 import해올 수 있다. 그 모듈들이 있는 디렉토리의 __init__.py파일에 __all__함수를 설정하고 import할 수 있는 모듈을 정의해주어야 한다. \n",
    "\n",
    "ex) __all__=['echo']\n",
    "\n",
    "question : 패키지 = 디렉토리 = 라이브러리 ??\n",
    "\n"
   ]
  },
  {
   "cell_type": "markdown",
   "metadata": {},
   "source": [
    "from game.sound.echo import echo_test가 from ..sound.echo import echo_test로 변경되었다. 여기에서 ..은 render.py 파일의 부모 디렉터리를 의미한다. 따라서 render.py 파일의 부모 디렉터리는 game이므로 위와 같은 import가 가능한 것이다.\n",
    "\n",
    "※ render.py 파일의 현재 디렉터리는 graphic이고 부모 디렉터리는 game이다."
   ]
  },
  {
   "cell_type": "markdown",
   "metadata": {},
   "source": [
    ".. - 부모 디렉토리\n",
    ". - 현재 디렉토리"
   ]
  },
  {
   "cell_type": "code",
   "execution_count": null,
   "metadata": {},
   "outputs": [],
   "source": []
  },
  {
   "cell_type": "code",
   "execution_count": null,
   "metadata": {},
   "outputs": [],
   "source": []
  },
  {
   "cell_type": "code",
   "execution_count": null,
   "metadata": {},
   "outputs": [],
   "source": []
  }
 ],
 "metadata": {
  "interpreter": {
   "hash": "db0d14c3f66c201eb4bb38ec96661bbebb3070985cbf85cd3f9622e5d810339d"
  },
  "kernelspec": {
   "display_name": "Python 3.8.7 64-bit ('venv': venv)",
   "language": "python",
   "name": "python3"
  },
  "language_info": {
   "codemirror_mode": {
    "name": "ipython",
    "version": 3
   },
   "file_extension": ".py",
   "mimetype": "text/x-python",
   "name": "python",
   "nbconvert_exporter": "python",
   "pygments_lexer": "ipython3",
   "version": "3.8.7"
  },
  "orig_nbformat": 4
 },
 "nbformat": 4,
 "nbformat_minor": 2
}
